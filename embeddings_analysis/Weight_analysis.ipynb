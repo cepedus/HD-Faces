{
 "cells": [
  {
   "cell_type": "code",
   "execution_count": 1,
   "metadata": {},
   "outputs": [],
   "source": [
    "#!/usr/bin/python\n",
    "import os\n",
    "import sys\n",
    "import time\n",
    "import numpy as np\n",
    "import copy\n",
    "import scipy\n",
    "import pickle\n",
    "import builtins\n",
    "import torch\n",
    "import torch.nn as nn\n",
    "import torch.optim as optim\n",
    "import torchvision.transforms as transforms\n",
    "import torchvision.datasets as datasets\n",
    "from tensorboardX import SummaryWriter\n",
    "\n",
    "import matplotlib.pyplot as plt\n",
    "from mpl_toolkits.mplot3d import Axes3D\n",
    "\n",
    "from tqdm import tqdm\n",
    "import torch.distributed as dist\n",
    "import torch.multiprocessing as mp\n",
    "import torch.nn.functional as F\n",
    "from sklearn.decomposition import PCA\n",
    "from torch.optim.lr_scheduler import StepLR, MultiStepLR\n",
    "\n",
    "from config_weight_analysis import configurations\n",
    "from backbone import *\n",
    "from head import *\n",
    "from loss.loss import *\n",
    "from dataset import *\n",
    "from util.utils import *\n",
    "from util.flops_counter import *\n",
    "from optimizer.lr_scheduler import *\n",
    "from optimizer.optimizer import *\n",
    "\n",
    "%matplotlib inline\n",
    "import warnings\n",
    "warnings.filterwarnings('ignore')\n"
   ]
  },
  {
   "cell_type": "code",
   "execution_count": 21,
   "metadata": {},
   "outputs": [
    {
     "name": "stdout",
     "output_type": "stream",
     "text": [
      "============================================================\n",
      "Loading Backbone Checkpoint '/Volumes/LaCie/HD-Faces-main_logs/debug_highlow_144/model/Backbone_IR_SE_18_Epoch_12_Time_2021-02-01-02-46_checkpoint.pth'\n",
      "============================================================\n",
      "============================================================\n",
      "No Checkpoint Found at '/Volumes/LaCie/HD-Faces-main_logs/model/debug_lowres_144/model/Backbone_IR_SE_18_Epoch_11_Time_2021-01-29-14-12_checkpoint.pth'. Please Have a Check or Continue to Train from Scratch\n",
      "============================================================\n",
      "Params:  16.57 M\n",
      "Flops: 8.57 GFLOPS\n",
      "Params:  16.57 M\n",
      "Flops: 8.57 GFLOPS\n"
     ]
    }
   ],
   "source": [
    "def to_device(data, device):\n",
    "    \"\"\"Move tensor(s) to chosen device\"\"\"\n",
    "    if isinstance(data, (list,tuple)):\n",
    "        return [to_device(x, device) for x in data]\n",
    "    return data.to(device, non_blocking=True)\n",
    "\n",
    "def set_seed(seed):\n",
    "    random.seed(seed)\n",
    "    np.random.seed(seed)\n",
    "    torch.manual_seed(seed)\n",
    "    torch.cuda.manual_seed(seed)\n",
    "    torch.cuda.manual_seed_all(seed)\n",
    "    \n",
    "\n",
    "cfg = configurations[1]\n",
    "\n",
    "\n",
    "# VAL_DATA_ROOT = cfg['VAL_DATA_ROOT']\n",
    "# VAL_SET = cfg['VAL_SET']\n",
    "VAL_IN_LOWRES = cfg['VAL_IN_LOWRES']\n",
    "INPUT_SIZE = [32, 32] if VAL_IN_LOWRES else [144, 144]\n",
    "\n",
    "BACKBONE_RESUME_ROOT = cfg['BACKBONE_RESUME_ROOT'] # the root to resume training from a saved checkpoint, # highlow\n",
    "BACKBONE2_RESUME_ROOT = \"/Volumes/LaCie/HD-Faces-main_logs/model/debug_lowres_144/model/Backbone_IR_SE_18_Epoch_11_Time_2021-01-29-14-12_checkpoint.pth\"\n",
    "        \n",
    "IS_RESUME = cfg['IS_RESUME']\n",
    "BACKBONE_NAME = cfg['BACKBONE_NAME'] #ARCHITECTURE\n",
    "\n",
    "#workers = int((cfg['NUM_WORKERS'] + ngpus_per_node - 1) / ngpus_per_node) # dataload threads\n",
    "workers = int(cfg['NUM_WORKERS'])\n",
    "DATA_ROOT = cfg['DATA_ROOT'] # the parent root where your train/val/test data are stored\n",
    "#RECORD_DIR = cfg['DATA_RECORD']\n",
    "EMBEDDING_SIZE = cfg['EMBEDDING_SIZE'] # feature dimension\n",
    "\n",
    "# name to csv of features\n",
    "eval_name = cfg['CSV_NAME']\n",
    "    \n",
    "GPU_AVAILABLE = torch.cuda.is_available()\n",
    "# GPU_AVAILABLE = False\n",
    "            \n",
    "if GPU_AVAILABLE:\n",
    "    device = torch.device('cuda:0')\n",
    "    ngpus_per_node = len(cfg['GPU'])\n",
    "    cfg['GPU'] = cfg['GPU'][0]\n",
    "    world_size = cfg['WORLD_SIZE']\n",
    "    cfg['WORLD_SIZE'] = ngpus_per_node * world_size\n",
    "    cfg['GPU'] = 'cuda'\n",
    "\n",
    "else:\n",
    "    ngpus_per_node = 1\n",
    "    device = torch.device('cpu')\n",
    "    cfg['GPU'] = 'cpu'\n",
    "\n",
    "batch_size = int(cfg['BATCH_SIZE'])\n",
    "per_batch_size = int(batch_size / ngpus_per_node)\n",
    "\n",
    "   \n",
    "############################################################################\n",
    "# Resume backbone from a checkpoint\n",
    "# INPUT_SIZE = cfg['INPUT_SIZE']\n",
    "\n",
    "BACKBONE_DICT = {'MobileFaceNet': MobileFaceNet,\n",
    "                     'ResNet_50': ResNet_50, 'ResNet_101': ResNet_101, 'ResNet_152': ResNet_152, 'IR_SE_18': IR_SE_18,\n",
    "                     'IR_50': IR_50, 'IR_100': IR_100, 'IR_101': IR_101, 'IR_152': IR_152, 'IR_185': IR_185, 'IR_200': IR_200,\n",
    "                     'IR_SE_50': IR_SE_50, 'IR_SE_100': IR_SE_100, 'IR_SE_101': IR_SE_101, 'IR_SE_152': IR_SE_152, 'IR_SE_185': IR_SE_185, 'IR_SE_200': IR_SE_200,\n",
    "                     'AttentionNet_IR_56': AttentionNet_IR_56,'AttentionNet_IRSE_56': AttentionNet_IRSE_56,'AttentionNet_IR_92': AttentionNet_IR_92,'AttentionNet_IRSE_92': AttentionNet_IRSE_92,\n",
    "                     'ResNeSt_50': resnest50, 'ResNeSt_101': resnest101, 'ResNeSt_100': resnest100,\n",
    "                     'GhostNet': GhostNet, 'MobileNetV3': MobileNetV3, 'ProxylessNAS': proxylessnas, 'EfficientNet': efficientnet,\n",
    "                     'DenseNet': densenet, 'ReXNetV1': ReXNetV1, 'MobileNeXt': MobileNeXt, 'MobileNetV2': MobileNetV2\n",
    "                    } #'HRNet_W30': HRNet_W30, 'HRNet_W32': HRNet_W32, 'HRNet_W40': HRNet_W40, 'HRNet_W44': HRNet_W44, 'HRNet_W48': HRNet_W48, 'HRNet_W64': HRNet_W64\n",
    "\n",
    "\n",
    "backbone = BACKBONE_DICT[BACKBONE_NAME](INPUT_SIZE)\n",
    "backbone2 = BACKBONE_DICT[BACKBONE_NAME](INPUT_SIZE)\n",
    "\n",
    "if IS_RESUME:\n",
    "    print(\"=\" * 60)\n",
    "    if os.path.isfile(BACKBONE_RESUME_ROOT):\n",
    "        print(\"Loading Backbone Checkpoint '{}'\".format(BACKBONE_RESUME_ROOT))\n",
    "        #loc = '{}:0'.format(cfg['GPU'])\n",
    "        loc = 'cpu'\n",
    "        backbone.load_state_dict(torch.load(BACKBONE_RESUME_ROOT, map_location=loc))\n",
    "    else:\n",
    "        print(\"No Checkpoint Found at '{}'. Please Have a Check or Continue to Train from Scratch\".format(BACKBONE_RESUME_ROOT))\n",
    "    print(\"=\" * 60)\n",
    "        \n",
    "    print(\"=\" * 60)\n",
    "    if os.path.isfile(BACKBONE2_RESUME_ROOT):\n",
    "        print(\"Loading Backbone Checkpoint '{}'\".format(BACKBONE2_RESUME_ROOT))\n",
    "        #loc = '{}:0'.format(cfg['GPU'])\n",
    "        loc = 'cpu'\n",
    "        backbone2.load_state_dict(torch.load(BACKBONE2_RESUME_ROOT, map_location=loc))\n",
    "    else:\n",
    "        print(\"No Checkpoint Found at '{}'. Please Have a Check or Continue to Train from Scratch\".format(BACKBONE2_RESUME_ROOT))\n",
    "    print(\"=\" * 60)\n",
    "        \n",
    "        \n",
    "    \n",
    "#backbone = torch.nn.DataParallel(backbone, device_ids=[cfg['GPU']] if GPU_AVAILABLE else None)\n",
    "# print backbone \n",
    "    \n",
    "print(\"Params: \", count_model_params(backbone))\n",
    "print(\"Flops:\", count_model_flops(backbone, input_res=INPUT_SIZE, device=device))\n",
    "    \n",
    "print(\"Params: \", count_model_params(backbone2))\n",
    "print(\"Flops:\", count_model_flops(backbone2, input_res=INPUT_SIZE, device=device))\n",
    "\n",
    "torch.backends.cudnn.benchmark = True\n",
    "torch.backends.cudnn.deterministic = True\n"
   ]
  },
  {
   "cell_type": "code",
   "execution_count": 22,
   "metadata": {},
   "outputs": [],
   "source": [
    "import seaborn as sns\n",
    "\n",
    "def plot_kernels(tensor, num_cols=6):\n",
    "    \n",
    "    tensor = tensor - tensor.min()\n",
    "    tensor = tensor / tensor.max()\n",
    "\n",
    "    if not tensor.ndim==4:\n",
    "        raise Exception(\"assumes a 4D tensor\")\n",
    "    if not tensor.shape[-1]==3:\n",
    "        raise Exception(\"last dim needs to be 3 to plot\")\n",
    "    num_kernels = tensor.shape[0]\n",
    "    num_rows = 1+ num_kernels // num_cols\n",
    "    fig = plt.figure(figsize=(num_cols,num_rows))\n",
    "    for i in range(tensor.shape[0]):\n",
    "        ax1 = fig.add_subplot(num_rows,num_cols,i+1)\n",
    "        ax1.imshow(tensor[i])\n",
    "        ax1.axis('off')\n",
    "        ax1.set_xticklabels([])\n",
    "        ax1.set_yticklabels([])\n",
    "\n",
    "    plt.subplots_adjust(wspace=0.1, hspace=0.1)\n",
    "    plt.show()\n",
    "    "
   ]
  },
  {
   "cell_type": "code",
   "execution_count": 23,
   "metadata": {
    "scrolled": true
   },
   "outputs": [
    {
     "data": {
      "image/png": "[encoded data removed]",
      "text/plain": [
       "<Figure size 432x792 with 64 Axes>"
      ]
     },
     "metadata": {
      "needs_background": "light"
     },
     "output_type": "display_data"
    }
   ],
   "source": [
    "# INPUT\n",
    "tensor = backbone.input_layer[0].weight.data.numpy()\n",
    "plot_kernels(tensor, num_cols=6)\n"
   ]
  },
  {
   "cell_type": "code",
   "execution_count": 24,
   "metadata": {},
   "outputs": [
    {
     "data": {
      "image/png": "[encoded data removed]",
      "text/plain": [
       "<Figure size 432x792 with 64 Axes>"
      ]
     },
     "metadata": {
      "needs_background": "light"
     },
     "output_type": "display_data"
    }
   ],
   "source": [
    "tensor2 = backbone2.input_layer[0].weight.data.numpy()\n",
    "plot_kernels(tensor2, num_cols=6)"
   ]
  },
  {
   "cell_type": "code",
   "execution_count": 14,
   "metadata": {},
   "outputs": [
    {
     "name": "stdout",
     "output_type": "stream",
     "text": [
      "Number modules: 8\n",
      "Example module:\n"
     ]
    },
    {
     "data": {
      "text/plain": [
       "bottleneck_IR_SE(\n",
       "  (shortcut_layer): MaxPool2d(kernel_size=1, stride=2, padding=0, dilation=1, ceil_mode=False)\n",
       "  (res_layer): Sequential(\n",
       "    (0): BatchNorm2d(64, eps=1e-05, momentum=0.1, affine=True, track_running_stats=True)\n",
       "    (1): Conv2d(64, 64, kernel_size=(3, 3), stride=(1, 1), padding=(1, 1), bias=False)\n",
       "    (2): PReLU(num_parameters=64)\n",
       "    (3): Conv2d(64, 64, kernel_size=(3, 3), stride=(2, 2), padding=(1, 1), bias=False)\n",
       "    (4): BatchNorm2d(64, eps=1e-05, momentum=0.1, affine=True, track_running_stats=True)\n",
       "    (5): SEModule(\n",
       "      (avg_pool): AdaptiveAvgPool2d(output_size=1)\n",
       "      (fc1): Conv2d(64, 4, kernel_size=(1, 1), stride=(1, 1), bias=False)\n",
       "      (relu): ReLU(inplace=True)\n",
       "      (fc2): Conv2d(4, 64, kernel_size=(1, 1), stride=(1, 1), bias=False)\n",
       "      (sigmoid): Sigmoid()\n",
       "    )\n",
       "  )\n",
       ")"
      ]
     },
     "execution_count": 14,
     "metadata": {},
     "output_type": "execute_result"
    }
   ],
   "source": [
    "number_modules = len(backbone.body)\n",
    "print(\"Number modules:\", number_modules)\n",
    "print(\"Example module:\")\n",
    "backbone.body[0]"
   ]
  },
  {
   "cell_type": "code",
   "execution_count": 20,
   "metadata": {},
   "outputs": [
    {
     "name": "stdout",
     "output_type": "stream",
     "text": [
      "torch.Size([64, 64, 3, 3])\n",
      "Backbone body module 0 : Conv1 kernel sum tensor(17818.4453) , Conv3 kernel Sum: tensor(18546.9941)\n",
      "Backbone2 body module 0 : Conv2 kernel sum tensor(18142.9219) , Conv3 kernel Sum: tensor(17307.6816)\n",
      "Difference backbone - backbone2: Conv1: tensor(-324.4766) , Conv2: tensor(1239.3125)\n",
      "\n",
      "torch.Size([64, 64, 3, 3])\n",
      "Backbone body module 1 : Conv1 kernel sum tensor(16618.2070) , Conv3 kernel Sum: tensor(15239.2314)\n",
      "Backbone2 body module 1 : Conv2 kernel sum tensor(17781.2520) , Conv3 kernel Sum: tensor(17562.0957)\n",
      "Difference backbone - backbone2: Conv1: tensor(-1163.0449) , Conv2: tensor(-2322.8643)\n",
      "\n",
      "torch.Size([128, 64, 3, 3])\n",
      "Backbone body module 2 : Conv1 kernel sum tensor(39175.8555) , Conv3 kernel Sum: tensor(73798.7812)\n",
      "Backbone2 body module 2 : Conv2 kernel sum tensor(32620.6270) , Conv3 kernel Sum: tensor(67090.5703)\n",
      "Difference backbone - backbone2: Conv1: tensor(6555.2285) , Conv2: tensor(6708.2109)\n",
      "\n",
      "torch.Size([128, 128, 3, 3])\n",
      "Backbone body module 3 : Conv1 kernel sum tensor(79966.2891) , Conv3 kernel Sum: tensor(62948.6289)\n",
      "Backbone2 body module 3 : Conv2 kernel sum tensor(69557.5781) , Conv3 kernel Sum: tensor(69799.5703)\n",
      "Difference backbone - backbone2: Conv1: tensor(10408.7109) , Conv2: tensor(-6850.9414)\n",
      "\n",
      "torch.Size([256, 128, 3, 3])\n",
      "Backbone body module 4 : Conv1 kernel sum tensor(143052.1406) , Conv3 kernel Sum: tensor(267299.0938)\n",
      "Backbone2 body module 4 : Conv2 kernel sum tensor(153195.6562) , Conv3 kernel Sum: tensor(291472.1250)\n",
      "Difference backbone - backbone2: Conv1: tensor(-10143.5156) , Conv2: tensor(-24173.0312)\n",
      "\n",
      "torch.Size([256, 256, 3, 3])\n",
      "Backbone body module 5 : Conv1 kernel sum tensor(309778.8438) , Conv3 kernel Sum: tensor(288197.7188)\n",
      "Backbone2 body module 5 : Conv2 kernel sum tensor(287493.0312) , Conv3 kernel Sum: tensor(285036.9688)\n",
      "Difference backbone - backbone2: Conv1: tensor(22285.8125) , Conv2: tensor(3160.7500)\n",
      "\n",
      "torch.Size([512, 256, 3, 3])\n",
      "Backbone body module 6 : Conv1 kernel sum tensor(601118.) , Conv3 kernel Sum: tensor(1126986.1250)\n",
      "Backbone2 body module 6 : Conv2 kernel sum tensor(575296.8125) , Conv3 kernel Sum: tensor(1201711.1250)\n",
      "Difference backbone - backbone2: Conv1: tensor(25821.1875) , Conv2: tensor(-74725.)\n",
      "\n",
      "torch.Size([512, 512, 3, 3])\n",
      "Backbone body module 7 : Conv1 kernel sum tensor(1237735.6250) , Conv3 kernel Sum: tensor(1051512.2500)\n",
      "Backbone2 body module 7 : Conv2 kernel sum tensor(1218573.) , Conv3 kernel Sum: tensor(1145588.8750)\n",
      "Difference backbone - backbone2: Conv1: tensor(19162.6250) , Conv2: tensor(-94076.6250)\n",
      "\n"
     ]
    }
   ],
   "source": [
    "def normalize_tensor(tensor):\n",
    "    tensor = tensor - tensor.min()\n",
    "    tensor = tensor / tensor.max()\n",
    "    return tensor\n",
    "\n",
    "for mod in range(number_modules):\n",
    "    \n",
    "    conv1_tensor = normalize_tensor(backbone.body[mod].res_layer[1].weight.data)\n",
    "    print(conv1_tensor.shape)\n",
    "    sums_kernel1 = [conv1_tensor[i].sum() for i in range(conv1_tensor.shape[0])]\n",
    "    conv2_tensor = normalize_tensor(backbone.body[mod].res_layer[3].weight.data)\n",
    "    sums_kernel2 = [conv2_tensor[i].sum() for i in range(conv2_tensor.shape[0])]\n",
    "    \n",
    "    total_sum_kernel1 = sum(sums_kernel1)\n",
    "    total_sum_kernel2 = sum(sums_kernel2)\n",
    "\n",
    "    print(\"Backbone body module\",mod,\": Conv1 kernel sum\", total_sum_kernel1, \", Conv3 kernel Sum:\", total_sum_kernel2)\n",
    "\n",
    "    conv1_tensor_2 = normalize_tensor(backbone2.body[mod].res_layer[1].weight.data)\n",
    "    sums_kernel1_2 = [conv1_tensor_2[i].sum() for i in range(conv1_tensor_2.shape[0])]\n",
    "    conv2_tensor_2 = normalize_tensor(backbone2.body[mod].res_layer[3].weight.data)\n",
    "    sums_kernel2_2 = [conv2_tensor_2[i].sum() for i in range(conv2_tensor_2.shape[0])]\n",
    "    \n",
    "    total_sum_kernel1_2 = sum(sums_kernel1_2)\n",
    "    total_sum_kernel2_2 = sum(sums_kernel2_2)\n",
    "    \n",
    "    print(\"Backbone2 body module\",mod,\": Conv2 kernel sum\",total_sum_kernel1_2, \", Conv3 kernel Sum:\", total_sum_kernel2_2)\n",
    "    \n",
    "    print(\"Difference backbone - backbone2: Conv1:\", total_sum_kernel1 - total_sum_kernel1_2, \", Conv3:\", total_sum_kernel2 - total_sum_kernel2_2) \n",
    "    \n",
    "\n",
    "    print()\n",
    "    \n",
    "    "
   ]
  },
  {
   "cell_type": "code",
   "execution_count": 19,
   "metadata": {},
   "outputs": [
    {
     "name": "stdout",
     "output_type": "stream",
     "text": [
      "torch.Size([64, 64, 3, 3])\n",
      "Backbone body0: Conv1 kernel sum tensor(-9.2009) , Conv3 kernel Sum: tensor(-0.6792)\n",
      "Backbone2 body0: Conv1 kernel sum tensor(-8.0925) , Conv3 kernel Sum: tensor(-11.3107)\n"
     ]
    }
   ],
   "source": [
    "# BODY [0]\n",
    "conv1_tensor = backbone.body[0].res_layer[1].weight.data\n",
    "sums_kernel1 = [conv1_tensor[i].sum() for i in range(conv1_tensor.shape[0])]\n",
    "conv2_tensor = backbone.body[0].res_layer[3].weight.data\n",
    "sums_kernel2 = [conv2_tensor[i].sum() for i in range(conv2_tensor.shape[0])]\n",
    "\n",
    "print(\"Backbone body0: Conv1 kernel sum\",sum(sums_kernel1), \", Conv3 kernel Sum:\", sum(sums_kernel2))\n",
    "\n",
    "conv1_tensor = backbone2.body[0].res_layer[1].weight.data\n",
    "sums_kernel1 = [conv1_tensor[i].sum() for i in range(conv1_tensor.shape[0])]\n",
    "conv2_tensor = backbone2.body[0].res_layer[3].weight.data\n",
    "sums_kernel2 = [conv2_tensor[i].sum() for i in range(conv2_tensor.shape[0])]\n",
    "print(\"Backbone2 body0: Conv1 kernel sum\",sum(sums_kernel1), \", Conv3 kernel Sum:\", sum(sums_kernel2))"
   ]
  },
  {
   "cell_type": "code",
   "execution_count": 169,
   "metadata": {},
   "outputs": [
    {
     "name": "stdout",
     "output_type": "stream",
     "text": [
      "Backbone2 body0: Conv1 kernel sum tensor(-10.8326) , Conv3 kernel Sum: tensor(-15.9781)\n"
     ]
    }
   ],
   "source": [
    "conv1_tensor = backbone2.body[0].res_layer[1].weight.data\n",
    "sums_kernel1 = [conv1_tensor[i].sum() for i in range(conv1_tensor.shape[0])]\n",
    "conv2_tensor = backbone2.body[0].res_layer[3].weight.data\n",
    "sums_kernel2 = [conv2_tensor[i].sum() for i in range(conv2_tensor.shape[0])]\n",
    "print(\"Backbone2 body0: Conv1 kernel sum\",sum(sums_kernel1), \", Conv3 kernel Sum:\", sum(sums_kernel2))"
   ]
  },
  {
   "cell_type": "code",
   "execution_count": null,
   "metadata": {},
   "outputs": [],
   "source": [
    "# BODY [1]\n",
    "conv1_tensor = backbone.body[0].res_layer[1].weight.data\n",
    "sums_kernel1 = [conv1_tensor[i].sum() for i in range(conv1_tensor.shape[0])]\n",
    "conv2_tensor = backbone.body[0].res_layer[3].weight.data\n",
    "sums_kernel2 = [conv2_tensor[i].sum() for i in range(conv2_tensor.shape[0])]\n",
    "print(sum(sums_kernel1), sum(sums_kernel2))"
   ]
  }
 ],
 "metadata": {
  "kernelspec": {
   "display_name": "Python 3",
   "language": "python",
   "name": "python3"
  },
  "language_info": {
   "codemirror_mode": {
    "name": "ipython",
    "version": 3
   },
   "file_extension": ".py",
   "mimetype": "text/x-python",
   "name": "python",
   "nbconvert_exporter": "python",
   "pygments_lexer": "ipython3",
   "version": "3.8.5"
  },
  "toc": {
   "base_numbering": 1,
   "nav_menu": {},
   "number_sections": true,
   "sideBar": true,
   "skip_h1_title": false,
   "title_cell": "Table of Contents",
   "title_sidebar": "Contents",
   "toc_cell": false,
   "toc_position": {},
   "toc_section_display": true,
   "toc_window_display": false
  }
 },
 "nbformat": 4,
 "nbformat_minor": 4
}
